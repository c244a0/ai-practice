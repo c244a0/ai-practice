{
  "cells": [
    {
      "cell_type": "code",
      "execution_count": 1,
      "id": "1bbca8df",
      "metadata": {
        "colab": {
          "base_uri": "https://localhost:8080/",
          "height": 316
        },
        "id": "1bbca8df",
        "outputId": "f81df441-6bdd-40fb-b50a-95b20e56f42b"
      },
      "outputs": [
        {
          "output_type": "error",
          "ename": "ModuleNotFoundError",
          "evalue": "ignored",
          "traceback": [
            "\u001b[0;31m---------------------------------------------------------------------------\u001b[0m",
            "\u001b[0;31mModuleNotFoundError\u001b[0m                       Traceback (most recent call last)",
            "\u001b[0;32m<ipython-input-1-93833772b63f>\u001b[0m in \u001b[0;36m<module>\u001b[0;34m\u001b[0m\n\u001b[0;32m----> 1\u001b[0;31m \u001b[0;32mfrom\u001b[0m \u001b[0mselenium\u001b[0m \u001b[0;32mimport\u001b[0m \u001b[0mwebdriver\u001b[0m\u001b[0;34m\u001b[0m\u001b[0;34m\u001b[0m\u001b[0m\n\u001b[0m",
            "\u001b[0;31mModuleNotFoundError\u001b[0m: No module named 'selenium'",
            "",
            "\u001b[0;31m---------------------------------------------------------------------------\u001b[0;32m\nNOTE: If your import is failing due to a missing package, you can\nmanually install dependencies using either !pip or !apt.\n\nTo view examples of installing some common dependencies, click the\n\"Open Examples\" button below.\n\u001b[0;31m---------------------------------------------------------------------------\u001b[0m\n"
          ],
          "errorDetails": {
            "actions": [
              {
                "action": "open_url",
                "actionText": "Open Examples",
                "url": "/notebooks/snippets/importing_libraries.ipynb"
              }
            ]
          }
        }
      ],
      "source": [
        "from selenium import webdriver"
      ]
    },
    {
      "cell_type": "code",
      "execution_count": null,
      "id": "4f1e1ef3",
      "metadata": {
        "id": "4f1e1ef3"
      },
      "outputs": [],
      "source": [
        "browser = webdriver.Firefox()"
      ]
    },
    {
      "cell_type": "code",
      "execution_count": null,
      "id": "a9a547b6",
      "metadata": {
        "scrolled": false,
        "id": "a9a547b6"
      },
      "outputs": [],
      "source": [
        "browser.get('https://scraping-for-beginner.herokuapp.com/login_page')"
      ]
    },
    {
      "cell_type": "code",
      "execution_count": null,
      "id": "d1126078",
      "metadata": {
        "id": "d1126078"
      },
      "outputs": [],
      "source": [
        "from selenium.webdriver.common.by import By\n",
        "\n",
        "elem_username = browser.find_element(By.ID, value='username')"
      ]
    },
    {
      "cell_type": "code",
      "execution_count": null,
      "id": "9f870c73",
      "metadata": {
        "id": "9f870c73"
      },
      "outputs": [],
      "source": [
        "elem_username.send_keys('imanishi')"
      ]
    },
    {
      "cell_type": "code",
      "execution_count": null,
      "id": "775fc5d4",
      "metadata": {
        "id": "775fc5d4"
      },
      "outputs": [],
      "source": [
        "elelm_password = browser.find_element(By.ID, value='password')"
      ]
    },
    {
      "cell_type": "code",
      "execution_count": null,
      "id": "8b47303d",
      "metadata": {
        "id": "8b47303d"
      },
      "outputs": [],
      "source": [
        "elelm_password.send_keys('kohei')"
      ]
    },
    {
      "cell_type": "code",
      "execution_count": null,
      "id": "4493cea8",
      "metadata": {
        "id": "4493cea8"
      },
      "outputs": [],
      "source": [
        "elem_login_btn = browser.find_element(By.ID, value='login-btn')"
      ]
    },
    {
      "cell_type": "code",
      "execution_count": null,
      "id": "8b89f2b1",
      "metadata": {
        "id": "8b89f2b1"
      },
      "outputs": [],
      "source": [
        "elem_login_btn.click()"
      ]
    },
    {
      "cell_type": "code",
      "execution_count": null,
      "id": "a771a7b7",
      "metadata": {
        "id": "a771a7b7"
      },
      "outputs": [],
      "source": [
        "elem = browser.find_element(By.ID, value='name')\n",
        "elem1 = browser.find_element(By.ID, value='company')\n",
        "elem2 = browser.find_element(By.ID, value='birthday')\n",
        "elem3 = browser.find_element(By.ID, value='come_from')\n",
        "elem4 = browser.find_element(By.ID, value='hobby')\n",
        "            \n",
        "            "
      ]
    },
    {
      "cell_type": "code",
      "execution_count": null,
      "id": "1eb4c806",
      "metadata": {
        "id": "1eb4c806",
        "outputId": "47cc61c7-45dd-42eb-ce39-7ca949582c73"
      },
      "outputs": [
        {
          "data": {
            "text/plain": [
              "'今西 航平'"
            ]
          },
          "execution_count": 200,
          "metadata": {},
          "output_type": "execute_result"
        }
      ],
      "source": [
        "elem.text"
      ]
    },
    {
      "cell_type": "code",
      "execution_count": null,
      "id": "e1417333",
      "metadata": {
        "id": "e1417333",
        "outputId": "f030d7f5-ce7d-47af-977c-e44ae3c0f471"
      },
      "outputs": [
        {
          "data": {
            "text/plain": [
              "'株式会社キカガク'"
            ]
          },
          "execution_count": 44,
          "metadata": {},
          "output_type": "execute_result"
        }
      ],
      "source": [
        "elem1.text"
      ]
    },
    {
      "cell_type": "code",
      "execution_count": null,
      "id": "279ddef6",
      "metadata": {
        "id": "279ddef6",
        "outputId": "664f9dcc-55c9-424d-b4bd-08fc75500e88"
      },
      "outputs": [
        {
          "data": {
            "text/plain": [
              "'1994年7月15日'"
            ]
          },
          "execution_count": 47,
          "metadata": {},
          "output_type": "execute_result"
        }
      ],
      "source": [
        "elem2.text"
      ]
    },
    {
      "cell_type": "code",
      "execution_count": null,
      "id": "996490ce",
      "metadata": {
        "id": "996490ce",
        "outputId": "1987087d-e138-4c27-ec5a-74203ec246d9"
      },
      "outputs": [
        {
          "data": {
            "text/plain": [
              "'千葉県'"
            ]
          },
          "execution_count": 48,
          "metadata": {},
          "output_type": "execute_result"
        }
      ],
      "source": [
        "elem3.text"
      ]
    },
    {
      "cell_type": "code",
      "execution_count": null,
      "id": "58fe0031",
      "metadata": {
        "id": "58fe0031",
        "outputId": "ed659ae9-5029-4b3c-99d8-923386c71134"
      },
      "outputs": [
        {
          "data": {
            "text/plain": [
              "'バスケットボール読書ガジェット集め'"
            ]
          },
          "execution_count": 50,
          "metadata": {},
          "output_type": "execute_result"
        }
      ],
      "source": [
        "hobby = elem4.text\n",
        "type(hobby)\n",
        "hobby.replace('\\n', '')"
      ]
    },
    {
      "cell_type": "code",
      "execution_count": null,
      "id": "3e2f4edb",
      "metadata": {
        "id": "3e2f4edb"
      },
      "outputs": [],
      "source": [
        "elems_th = browser.find_elements(By.TAG_NAME, 'th')"
      ]
    },
    {
      "cell_type": "code",
      "execution_count": null,
      "id": "1cd06996",
      "metadata": {
        "id": "1cd06996",
        "outputId": "bbfc733a-b6e8-4052-e9c2-e54d3bc0dc08"
      },
      "outputs": [
        {
          "data": {
            "text/plain": [
              "'所属企業'"
            ]
          },
          "execution_count": 237,
          "metadata": {},
          "output_type": "execute_result"
        }
      ],
      "source": [
        "elems_th[1].text"
      ]
    },
    {
      "cell_type": "code",
      "execution_count": null,
      "id": "3f6a8081",
      "metadata": {
        "id": "3f6a8081"
      },
      "outputs": [],
      "source": [
        "keys = []\n",
        "\n",
        "elems_th = browser.find_elements(By.TAG_NAME, 'th')\n",
        "\n",
        "for elem_th in elems_th:\n",
        "    key = elem_th.text\n",
        "    keys.append(key)"
      ]
    },
    {
      "cell_type": "code",
      "execution_count": null,
      "id": "4d254bdf",
      "metadata": {
        "id": "4d254bdf",
        "outputId": "b7d51e37-a306-40cb-a026-2d03268a7f35"
      },
      "outputs": [
        {
          "data": {
            "text/plain": [
              "['講師名', '所属企業', '生年月日', '出身', '趣味']"
            ]
          },
          "execution_count": 242,
          "metadata": {},
          "output_type": "execute_result"
        }
      ],
      "source": [
        "keys"
      ]
    },
    {
      "cell_type": "code",
      "execution_count": null,
      "id": "fd0a5b9e",
      "metadata": {
        "id": "fd0a5b9e"
      },
      "outputs": [],
      "source": [
        "value = []\n",
        "\n",
        "elems_th = browser.find_elements(By.TAG_NAME, 'td')\n",
        "for elem_th in elems_th:\n",
        "    key = elem_th.text\n",
        "    value.append(key)"
      ]
    },
    {
      "cell_type": "code",
      "execution_count": null,
      "id": "9b469030",
      "metadata": {
        "id": "9b469030",
        "outputId": "b3b168c1-b77d-4e41-c767-4c56aa598e51"
      },
      "outputs": [
        {
          "data": {
            "text/plain": [
              "['今西 航平', '株式会社キカガク', '1994年7月15日', '千葉県', 'バスケットボール\\n読書\\nガジェット集め']"
            ]
          },
          "execution_count": 247,
          "metadata": {},
          "output_type": "execute_result"
        }
      ],
      "source": [
        "value"
      ]
    },
    {
      "cell_type": "code",
      "execution_count": null,
      "id": "28eab5c3",
      "metadata": {
        "id": "28eab5c3"
      },
      "outputs": [],
      "source": [
        "import pandas as pd"
      ]
    },
    {
      "cell_type": "code",
      "execution_count": null,
      "id": "91fbc27c",
      "metadata": {
        "id": "91fbc27c"
      },
      "outputs": [],
      "source": [
        "df = pd.DataFrame()"
      ]
    },
    {
      "cell_type": "code",
      "execution_count": null,
      "id": "843f5740",
      "metadata": {
        "id": "843f5740"
      },
      "outputs": [],
      "source": [
        "df['項目'] = keys\n",
        "df['値'] = value"
      ]
    },
    {
      "cell_type": "code",
      "execution_count": null,
      "id": "f6174e3c",
      "metadata": {
        "id": "f6174e3c",
        "outputId": "7998a875-22e5-407c-b109-2c1ead1ed6f3"
      },
      "outputs": [
        {
          "data": {
            "text/html": [
              "<div>\n",
              "<style scoped>\n",
              "    .dataframe tbody tr th:only-of-type {\n",
              "        vertical-align: middle;\n",
              "    }\n",
              "\n",
              "    .dataframe tbody tr th {\n",
              "        vertical-align: top;\n",
              "    }\n",
              "\n",
              "    .dataframe thead th {\n",
              "        text-align: right;\n",
              "    }\n",
              "</style>\n",
              "<table border=\"1\" class=\"dataframe\">\n",
              "  <thead>\n",
              "    <tr style=\"text-align: right;\">\n",
              "      <th></th>\n",
              "      <th>項目</th>\n",
              "      <th>値</th>\n",
              "    </tr>\n",
              "  </thead>\n",
              "  <tbody>\n",
              "    <tr>\n",
              "      <th>0</th>\n",
              "      <td>講師名</td>\n",
              "      <td>今西 航平</td>\n",
              "    </tr>\n",
              "    <tr>\n",
              "      <th>1</th>\n",
              "      <td>所属企業</td>\n",
              "      <td>株式会社キカガク</td>\n",
              "    </tr>\n",
              "    <tr>\n",
              "      <th>2</th>\n",
              "      <td>生年月日</td>\n",
              "      <td>1994年7月15日</td>\n",
              "    </tr>\n",
              "    <tr>\n",
              "      <th>3</th>\n",
              "      <td>出身</td>\n",
              "      <td>千葉県</td>\n",
              "    </tr>\n",
              "    <tr>\n",
              "      <th>4</th>\n",
              "      <td>趣味</td>\n",
              "      <td>バスケットボール\\n読書\\nガジェット集め</td>\n",
              "    </tr>\n",
              "  </tbody>\n",
              "</table>\n",
              "</div>"
            ],
            "text/plain": [
              "     項目                      値\n",
              "0   講師名                  今西 航平\n",
              "1  所属企業               株式会社キカガク\n",
              "2  生年月日             1994年7月15日\n",
              "3    出身                    千葉県\n",
              "4    趣味  バスケットボール\\n読書\\nガジェット集め"
            ]
          },
          "execution_count": 258,
          "metadata": {},
          "output_type": "execute_result"
        }
      ],
      "source": [
        "df"
      ]
    },
    {
      "cell_type": "code",
      "execution_count": null,
      "id": "c265d527",
      "metadata": {
        "id": "c265d527"
      },
      "outputs": [],
      "source": [
        "df.to_csv('講師情報.csv',index=False)"
      ]
    }
  ],
  "metadata": {
    "kernelspec": {
      "display_name": "Python 3 (ipykernel)",
      "language": "python",
      "name": "python3"
    },
    "language_info": {
      "codemirror_mode": {
        "name": "ipython",
        "version": 3
      },
      "file_extension": ".py",
      "mimetype": "text/x-python",
      "name": "python",
      "nbconvert_exporter": "python",
      "pygments_lexer": "ipython3",
      "version": "3.9.12"
    },
    "colab": {
      "provenance": []
    }
  },
  "nbformat": 4,
  "nbformat_minor": 5
}